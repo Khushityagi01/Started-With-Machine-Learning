{
 "cells": [
  {
   "cell_type": "markdown",
   "id": "a53c677a",
   "metadata": {},
   "source": [
    "Linear Regression - Diabetes Dataset\n",
    "\n",
    "Diabetes dataset is one of the datasets available in sklearn. The diabetes dataset consists of 10 physiological variables (age,sex, weight, blood pressure) measure on 442 patients, and an indication of disease progression after one year.\n",
    "\n",
    "\n",
    "You are given a Training dataset csv file with X train and Y train data. your task is to come up with Linear Regression training algorithm and thus predictions for the test dataset given."
   ]
  },
  {
   "cell_type": "code",
   "execution_count": 1,
   "id": "aafa85d7",
   "metadata": {},
   "outputs": [
    {
     "name": "stdout",
     "output_type": "stream",
     "text": [
      "(331, 11)\n",
      "(111, 10)\n"
     ]
    }
   ],
   "source": [
    "import numpy as np\n",
    "from sklearn.linear_model import LinearRegression\n",
    "training_data = np.loadtxt(\"0000000000002329_training_diabetes_x_y_train.csv\",delimiter=\",\")\n",
    "testing_data = np.loadtxt(\"0000000000002329_test_diabetes_x_test.csv\",delimiter=\",\")\n",
    "\n",
    "print(training_data.shape)\n",
    "print(testing_data.shape)"
   ]
  },
  {
   "cell_type": "code",
   "execution_count": 2,
   "id": "60486aa0",
   "metadata": {},
   "outputs": [
    {
     "name": "stdout",
     "output_type": "stream",
     "text": [
      "(111, 10)\n",
      "(331, 1)\n",
      "(331, 10)\n"
     ]
    }
   ],
   "source": [
    "X_test = testing_data\n",
    "X_train = training_data[:,:10]\n",
    "Y_train = training_data[:,10:]\n",
    "print(X_test.shape)\n",
    "print(Y_train.shape)\n",
    "print(X_train.shape)"
   ]
  },
  {
   "cell_type": "code",
   "execution_count": 3,
   "id": "b9958934",
   "metadata": {},
   "outputs": [],
   "source": [
    "model = LinearRegression()\n",
    "model.fit(X_train,Y_train)\n",
    "ans = model.predict(X_test)\n",
    "np.savetxt('predicted_data.csv', ans, delimiter=',')"
   ]
  },
  {
   "cell_type": "code",
   "execution_count": null,
   "id": "942f8e07",
   "metadata": {},
   "outputs": [],
   "source": []
  }
 ],
 "metadata": {
  "kernelspec": {
   "display_name": "Python 3 (ipykernel)",
   "language": "python",
   "name": "python3"
  },
  "language_info": {
   "codemirror_mode": {
    "name": "ipython",
    "version": 3
   },
   "file_extension": ".py",
   "mimetype": "text/x-python",
   "name": "python",
   "nbconvert_exporter": "python",
   "pygments_lexer": "ipython3",
   "version": "3.9.7"
  }
 },
 "nbformat": 4,
 "nbformat_minor": 5
}
